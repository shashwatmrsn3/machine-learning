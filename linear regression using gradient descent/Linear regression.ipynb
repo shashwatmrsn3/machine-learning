{
 "cells": [
  {
   "cell_type": "markdown",
   "id": "5455cf51",
   "metadata": {},
   "source": [
    "# Data Science lifecycle\n",
    "### 1. Business understandng \n",
    "### 2. Data Acquisition and understanding\n",
    "    2.1 Data Collection\n",
    "    2.2 Data wrangling\n",
    "        2.2.1 Remove null values\n",
    "        2.2.2 Remove duplicates\n",
    "        2.2.3 Data correction\n",
    "        2.2.4 Data normaliation\n",
    "        2.2.5 Data standardization\n",
    "    2.3 EDA\n",
    "### 3. Modelling\n",
    "    3.1 Feature Engineering: Selection, Creation\n",
    "    3.2 Model creation\n",
    "    3.3 Model Evaluation\n",
    "    3.4 Tuning\n",
    "### 4. Deployment\n",
    "### 5. Customer Acceptance"
   ]
  },
  {
   "cell_type": "markdown",
   "id": "ab822ba9",
   "metadata": {},
   "source": [
    "## Imports"
   ]
  },
  {
   "cell_type": "code",
   "execution_count": 17,
   "id": "acf28bb1",
   "metadata": {},
   "outputs": [],
   "source": [
    "import numpy as np\n",
    "import pandas as pd\n",
    "import matplotlib.pyplot as plt\n",
    "from sklearn.model_selection import train_test_split\n",
    "from sklearn.preprocessing import StandardScaler\n",
    "from sklearn.linear_model import SGDRegressor\n",
    "from sklearn.metrics import mean_squared_error, r2_score\n",
    "from tabulate import tabulate\n",
    "from statsmodels.stats.outliers_influence import variance_inflation_factor\n",
    "from sklearn.linear_model import LinearRegression\n",
    "\n",
    "\n"
   ]
  },
  {
   "cell_type": "markdown",
   "id": "5fafba9b",
   "metadata": {},
   "source": [
    "## Data wrangling"
   ]
  },
  {
   "cell_type": "markdown",
   "id": "e1a2cf78",
   "metadata": {},
   "source": [
    "#### Import data"
   ]
  },
  {
   "cell_type": "code",
   "execution_count": 65,
   "id": "1afb0464",
   "metadata": {},
   "outputs": [],
   "source": [
    "df = pd.read_csv('train.csv')\n"
   ]
  },
  {
   "cell_type": "markdown",
   "id": "764ab719",
   "metadata": {},
   "source": [
    "#### Check null values"
   ]
  },
  {
   "cell_type": "code",
   "execution_count": 52,
   "id": "91aede1f",
   "metadata": {},
   "outputs": [
    {
     "name": "stdout",
     "output_type": "stream",
     "text": [
      "Null values in each column:\n",
      "POSTED_BY                0\n",
      "UNDER_CONSTRUCTION       0\n",
      "RERA                     0\n",
      "BHK_NO.                  0\n",
      "BHK_OR_RK                0\n",
      "SQUARE_FT                0\n",
      "READY_TO_MOVE            0\n",
      "RESALE                   0\n",
      "ADDRESS                  0\n",
      "LONGITUDE                0\n",
      "LATITUDE                 0\n",
      "TARGET(PRICE_IN_LACS)    0\n",
      "dtype: int64\n"
     ]
    }
   ],
   "source": [
    "null_values = df.isnull().sum()\n",
    "print(\"Null values in each column:\")\n",
    "print(null_values)"
   ]
  },
  {
   "cell_type": "markdown",
   "id": "75ecb687",
   "metadata": {},
   "source": [
    "#### Check duplicates"
   ]
  },
  {
   "cell_type": "code",
   "execution_count": 53,
   "id": "db09ea67",
   "metadata": {},
   "outputs": [
    {
     "name": "stdout",
     "output_type": "stream",
     "text": [
      "401\n"
     ]
    }
   ],
   "source": [
    "duplicate_mask = df.duplicated()\n",
    "duplicate_count = duplicate_mask.sum()\n",
    "print(duplicate_count)"
   ]
  },
  {
   "cell_type": "markdown",
   "id": "80f8048f",
   "metadata": {},
   "source": [
    "#### Remove duplicates"
   ]
  },
  {
   "cell_type": "code",
   "execution_count": 54,
   "id": "33b75890",
   "metadata": {},
   "outputs": [
    {
     "name": "stdout",
     "output_type": "stream",
     "text": [
      "0\n"
     ]
    }
   ],
   "source": [
    "df = df.drop_duplicates()\n",
    "duplicate_mask = df.duplicated()\n",
    "duplicate_count = duplicate_mask.sum()\n",
    "print(duplicate_count)"
   ]
  },
  {
   "cell_type": "code",
   "execution_count": 55,
   "id": "f01a565d",
   "metadata": {
    "scrolled": true
   },
   "outputs": [
    {
     "name": "stdout",
     "output_type": "stream",
     "text": [
      "<class 'pandas.core.frame.DataFrame'>\n",
      "Index: 29050 entries, 0 to 29450\n",
      "Data columns (total 12 columns):\n",
      " #   Column                 Non-Null Count  Dtype  \n",
      "---  ------                 --------------  -----  \n",
      " 0   POSTED_BY              29050 non-null  object \n",
      " 1   UNDER_CONSTRUCTION     29050 non-null  int64  \n",
      " 2   RERA                   29050 non-null  int64  \n",
      " 3   BHK_NO.                29050 non-null  int64  \n",
      " 4   BHK_OR_RK              29050 non-null  object \n",
      " 5   SQUARE_FT              29050 non-null  float64\n",
      " 6   READY_TO_MOVE          29050 non-null  int64  \n",
      " 7   RESALE                 29050 non-null  int64  \n",
      " 8   ADDRESS                29050 non-null  object \n",
      " 9   LONGITUDE              29050 non-null  float64\n",
      " 10  LATITUDE               29050 non-null  float64\n",
      " 11  TARGET(PRICE_IN_LACS)  29050 non-null  float64\n",
      "dtypes: float64(4), int64(5), object(3)\n",
      "memory usage: 2.9+ MB\n"
     ]
    }
   ],
   "source": [
    "df.info()"
   ]
  },
  {
   "cell_type": "markdown",
   "id": "9d0e8b2b",
   "metadata": {},
   "source": [
    "#### Check head of data"
   ]
  },
  {
   "cell_type": "code",
   "execution_count": 56,
   "id": "98aa4055",
   "metadata": {},
   "outputs": [
    {
     "data": {
      "text/plain": [
       "<bound method NDFrame.head of       POSTED_BY  UNDER_CONSTRUCTION  RERA  BHK_NO. BHK_OR_RK    SQUARE_FT  \\\n",
       "0         Owner                   0     0        2       BHK  1300.236407   \n",
       "1        Dealer                   0     0        2       BHK  1275.000000   \n",
       "2         Owner                   0     0        2       BHK   933.159722   \n",
       "3         Owner                   0     1        2       BHK   929.921143   \n",
       "4        Dealer                   1     0        2       BHK   999.009247   \n",
       "...         ...                 ...   ...      ...       ...          ...   \n",
       "29446     Owner                   0     0        3       BHK  2500.000000   \n",
       "29447     Owner                   0     0        2       BHK   769.230769   \n",
       "29448    Dealer                   0     0        2       BHK  1022.641509   \n",
       "29449     Owner                   0     0        2       BHK   927.079009   \n",
       "29450    Dealer                   0     1        2       BHK   896.774194   \n",
       "\n",
       "       READY_TO_MOVE  RESALE                            ADDRESS  LONGITUDE  \\\n",
       "0                  1       1              Ksfc Layout,Bangalore  12.969910   \n",
       "1                  1       1          Vishweshwara Nagar,Mysore  12.274538   \n",
       "2                  1       1                   Jigani,Bangalore  12.778033   \n",
       "3                  1       1        Sector-1 Vaishali,Ghaziabad  28.642300   \n",
       "4                  0       1                   New Town,Kolkata  22.592200   \n",
       "...              ...     ...                                ...        ...   \n",
       "29446              1       1               Shamshabad Road,Agra  27.140626   \n",
       "29447              1       1  E3-108, Lake View Recidency,,Vapi  39.945409   \n",
       "29448              1       1                  Ajmer Road,Jaipur  26.928785   \n",
       "29449              1       1             Sholinganallur,Chennai  12.900150   \n",
       "29450              1       1                   Jagatpura,Jaipur  26.832353   \n",
       "\n",
       "        LATITUDE  TARGET(PRICE_IN_LACS)  \n",
       "0      77.597960                   55.0  \n",
       "1      76.644605                   51.0  \n",
       "2      77.632191                   43.0  \n",
       "3      77.344500                   62.5  \n",
       "4      88.484911                   60.5  \n",
       "...          ...                    ...  \n",
       "29446  78.043277                   45.0  \n",
       "29447 -86.150721                   16.0  \n",
       "29448  75.828002                   27.1  \n",
       "29449  80.227910                   67.0  \n",
       "29450  75.841749                   27.8  \n",
       "\n",
       "[29050 rows x 12 columns]>"
      ]
     },
     "execution_count": 56,
     "metadata": {},
     "output_type": "execute_result"
    }
   ],
   "source": [
    "df.head"
   ]
  },
  {
   "cell_type": "markdown",
   "id": "cdf9a310",
   "metadata": {},
   "source": [
    "## Exploratory data analysis"
   ]
  },
  {
   "cell_type": "markdown",
   "id": "eb08ad61",
   "metadata": {},
   "source": [
    "#### Checking the structure of data"
   ]
  },
  {
   "cell_type": "code",
   "execution_count": 57,
   "id": "8fa7dcac",
   "metadata": {
    "scrolled": true
   },
   "outputs": [
    {
     "name": "stdout",
     "output_type": "stream",
     "text": [
      "<class 'pandas.core.frame.DataFrame'>\n",
      "Index: 29050 entries, 0 to 29450\n",
      "Data columns (total 12 columns):\n",
      " #   Column                 Non-Null Count  Dtype  \n",
      "---  ------                 --------------  -----  \n",
      " 0   POSTED_BY              29050 non-null  object \n",
      " 1   UNDER_CONSTRUCTION     29050 non-null  int64  \n",
      " 2   RERA                   29050 non-null  int64  \n",
      " 3   BHK_NO.                29050 non-null  int64  \n",
      " 4   BHK_OR_RK              29050 non-null  object \n",
      " 5   SQUARE_FT              29050 non-null  float64\n",
      " 6   READY_TO_MOVE          29050 non-null  int64  \n",
      " 7   RESALE                 29050 non-null  int64  \n",
      " 8   ADDRESS                29050 non-null  object \n",
      " 9   LONGITUDE              29050 non-null  float64\n",
      " 10  LATITUDE               29050 non-null  float64\n",
      " 11  TARGET(PRICE_IN_LACS)  29050 non-null  float64\n",
      "dtypes: float64(4), int64(5), object(3)\n",
      "memory usage: 2.9+ MB\n"
     ]
    }
   ],
   "source": [
    "df.info()"
   ]
  },
  {
   "cell_type": "markdown",
   "id": "b04676c2",
   "metadata": {},
   "source": [
    "#### Checking the summary of the data"
   ]
  },
  {
   "cell_type": "code",
   "execution_count": 58,
   "id": "fa4f7617",
   "metadata": {
    "scrolled": false
   },
   "outputs": [
    {
     "data": {
      "text/html": [
       "<div>\n",
       "<style scoped>\n",
       "    .dataframe tbody tr th:only-of-type {\n",
       "        vertical-align: middle;\n",
       "    }\n",
       "\n",
       "    .dataframe tbody tr th {\n",
       "        vertical-align: top;\n",
       "    }\n",
       "\n",
       "    .dataframe thead th {\n",
       "        text-align: right;\n",
       "    }\n",
       "</style>\n",
       "<table border=\"1\" class=\"dataframe\">\n",
       "  <thead>\n",
       "    <tr style=\"text-align: right;\">\n",
       "      <th></th>\n",
       "      <th>UNDER_CONSTRUCTION</th>\n",
       "      <th>RERA</th>\n",
       "      <th>BHK_NO.</th>\n",
       "      <th>SQUARE_FT</th>\n",
       "      <th>READY_TO_MOVE</th>\n",
       "      <th>RESALE</th>\n",
       "      <th>LONGITUDE</th>\n",
       "      <th>LATITUDE</th>\n",
       "      <th>TARGET(PRICE_IN_LACS)</th>\n",
       "    </tr>\n",
       "  </thead>\n",
       "  <tbody>\n",
       "    <tr>\n",
       "      <th>count</th>\n",
       "      <td>29050.000000</td>\n",
       "      <td>29050.000000</td>\n",
       "      <td>29050.000000</td>\n",
       "      <td>2.905000e+04</td>\n",
       "      <td>29050.000000</td>\n",
       "      <td>29050.000000</td>\n",
       "      <td>29050.000000</td>\n",
       "      <td>29050.000000</td>\n",
       "      <td>29050.000000</td>\n",
       "    </tr>\n",
       "    <tr>\n",
       "      <th>mean</th>\n",
       "      <td>0.178967</td>\n",
       "      <td>0.315869</td>\n",
       "      <td>2.390809</td>\n",
       "      <td>2.003171e+04</td>\n",
       "      <td>0.821033</td>\n",
       "      <td>0.930361</td>\n",
       "      <td>21.270272</td>\n",
       "      <td>76.829585</td>\n",
       "      <td>141.712677</td>\n",
       "    </tr>\n",
       "    <tr>\n",
       "      <th>std</th>\n",
       "      <td>0.383332</td>\n",
       "      <td>0.464869</td>\n",
       "      <td>0.880677</td>\n",
       "      <td>1.914411e+06</td>\n",
       "      <td>0.383332</td>\n",
       "      <td>0.254541</td>\n",
       "      <td>6.195973</td>\n",
       "      <td>10.567572</td>\n",
       "      <td>650.055763</td>\n",
       "    </tr>\n",
       "    <tr>\n",
       "      <th>min</th>\n",
       "      <td>0.000000</td>\n",
       "      <td>0.000000</td>\n",
       "      <td>1.000000</td>\n",
       "      <td>3.000000e+00</td>\n",
       "      <td>0.000000</td>\n",
       "      <td>0.000000</td>\n",
       "      <td>-37.713008</td>\n",
       "      <td>-121.761248</td>\n",
       "      <td>0.250000</td>\n",
       "    </tr>\n",
       "    <tr>\n",
       "      <th>25%</th>\n",
       "      <td>0.000000</td>\n",
       "      <td>0.000000</td>\n",
       "      <td>2.000000</td>\n",
       "      <td>9.000000e+02</td>\n",
       "      <td>1.000000</td>\n",
       "      <td>1.000000</td>\n",
       "      <td>18.452663</td>\n",
       "      <td>73.794800</td>\n",
       "      <td>38.000000</td>\n",
       "    </tr>\n",
       "    <tr>\n",
       "      <th>50%</th>\n",
       "      <td>0.000000</td>\n",
       "      <td>0.000000</td>\n",
       "      <td>2.000000</td>\n",
       "      <td>1.172742e+03</td>\n",
       "      <td>1.000000</td>\n",
       "      <td>1.000000</td>\n",
       "      <td>20.631532</td>\n",
       "      <td>77.322873</td>\n",
       "      <td>61.750000</td>\n",
       "    </tr>\n",
       "    <tr>\n",
       "      <th>75%</th>\n",
       "      <td>0.000000</td>\n",
       "      <td>1.000000</td>\n",
       "      <td>3.000000</td>\n",
       "      <td>1.550169e+03</td>\n",
       "      <td>1.000000</td>\n",
       "      <td>1.000000</td>\n",
       "      <td>26.886881</td>\n",
       "      <td>77.912934</td>\n",
       "      <td>100.000000</td>\n",
       "    </tr>\n",
       "    <tr>\n",
       "      <th>max</th>\n",
       "      <td>1.000000</td>\n",
       "      <td>1.000000</td>\n",
       "      <td>20.000000</td>\n",
       "      <td>2.545455e+08</td>\n",
       "      <td>1.000000</td>\n",
       "      <td>1.000000</td>\n",
       "      <td>59.912884</td>\n",
       "      <td>152.962676</td>\n",
       "      <td>30000.000000</td>\n",
       "    </tr>\n",
       "  </tbody>\n",
       "</table>\n",
       "</div>"
      ],
      "text/plain": [
       "       UNDER_CONSTRUCTION          RERA       BHK_NO.     SQUARE_FT  \\\n",
       "count        29050.000000  29050.000000  29050.000000  2.905000e+04   \n",
       "mean             0.178967      0.315869      2.390809  2.003171e+04   \n",
       "std              0.383332      0.464869      0.880677  1.914411e+06   \n",
       "min              0.000000      0.000000      1.000000  3.000000e+00   \n",
       "25%              0.000000      0.000000      2.000000  9.000000e+02   \n",
       "50%              0.000000      0.000000      2.000000  1.172742e+03   \n",
       "75%              0.000000      1.000000      3.000000  1.550169e+03   \n",
       "max              1.000000      1.000000     20.000000  2.545455e+08   \n",
       "\n",
       "       READY_TO_MOVE        RESALE     LONGITUDE      LATITUDE  \\\n",
       "count   29050.000000  29050.000000  29050.000000  29050.000000   \n",
       "mean        0.821033      0.930361     21.270272     76.829585   \n",
       "std         0.383332      0.254541      6.195973     10.567572   \n",
       "min         0.000000      0.000000    -37.713008   -121.761248   \n",
       "25%         1.000000      1.000000     18.452663     73.794800   \n",
       "50%         1.000000      1.000000     20.631532     77.322873   \n",
       "75%         1.000000      1.000000     26.886881     77.912934   \n",
       "max         1.000000      1.000000     59.912884    152.962676   \n",
       "\n",
       "       TARGET(PRICE_IN_LACS)  \n",
       "count           29050.000000  \n",
       "mean              141.712677  \n",
       "std               650.055763  \n",
       "min                 0.250000  \n",
       "25%                38.000000  \n",
       "50%                61.750000  \n",
       "75%               100.000000  \n",
       "max             30000.000000  "
      ]
     },
     "execution_count": 58,
     "metadata": {},
     "output_type": "execute_result"
    }
   ],
   "source": [
    "df.describe()"
   ]
  },
  {
   "cell_type": "markdown",
   "id": "e35f861c",
   "metadata": {},
   "source": [
    "#### Checking multicollenearity of independent variables"
   ]
  },
  {
   "cell_type": "code",
   "execution_count": 59,
   "id": "913f6aa5",
   "metadata": {},
   "outputs": [
    {
     "name": "stdout",
     "output_type": "stream",
     "text": [
      "              Feature        VIF\n",
      "0  UNDER_CONSTRUCTION  17.234019\n",
      "1                RERA   1.204840\n",
      "2             BHK_NO.   1.010442\n",
      "3           SQUARE_FT   1.000231\n",
      "4       READY_TO_MOVE  78.636227\n",
      "5              RESALE   1.170533\n",
      "6           LONGITUDE   1.043637\n",
      "7            LATITUDE   1.032006\n"
     ]
    }
   ],
   "source": [
    "def check_vif(df_to_check):\n",
    "    \n",
    "    vif_test = df_to_check.drop(columns=['TARGET(PRICE_IN_LACS)'])\n",
    "    vif_test = vif_test.select_dtypes(include=[np.number]) \n",
    "    # Calculate VIF for each feature\n",
    "    vif_data = pd.DataFrame()\n",
    "    vif_data['Feature'] = vif_test.columns\n",
    "    vif_data['VIF'] = [variance_inflation_factor(vif_test.values, i) for i in range(len(vif_test.columns))]\n",
    "    \n",
    "    return vif_data\n",
    "\n",
    "print(check_vif(df))"
   ]
  },
  {
   "cell_type": "markdown",
   "id": "08948390",
   "metadata": {},
   "source": [
    "#### Remove READY_TO_MOVE column \n",
    "Removing it as it has high VIF value and checking VIF again"
   ]
  },
  {
   "cell_type": "code",
   "execution_count": 60,
   "id": "cb0bb225",
   "metadata": {},
   "outputs": [
    {
     "data": {
      "text/html": [
       "<div>\n",
       "<style scoped>\n",
       "    .dataframe tbody tr th:only-of-type {\n",
       "        vertical-align: middle;\n",
       "    }\n",
       "\n",
       "    .dataframe tbody tr th {\n",
       "        vertical-align: top;\n",
       "    }\n",
       "\n",
       "    .dataframe thead th {\n",
       "        text-align: right;\n",
       "    }\n",
       "</style>\n",
       "<table border=\"1\" class=\"dataframe\">\n",
       "  <thead>\n",
       "    <tr style=\"text-align: right;\">\n",
       "      <th></th>\n",
       "      <th>Feature</th>\n",
       "      <th>VIF</th>\n",
       "    </tr>\n",
       "  </thead>\n",
       "  <tbody>\n",
       "    <tr>\n",
       "      <th>0</th>\n",
       "      <td>UNDER_CONSTRUCTION</td>\n",
       "      <td>1.495079</td>\n",
       "    </tr>\n",
       "    <tr>\n",
       "      <th>1</th>\n",
       "      <td>RERA</td>\n",
       "      <td>1.733881</td>\n",
       "    </tr>\n",
       "    <tr>\n",
       "      <th>2</th>\n",
       "      <td>BHK_NO.</td>\n",
       "      <td>8.089283</td>\n",
       "    </tr>\n",
       "    <tr>\n",
       "      <th>3</th>\n",
       "      <td>SQUARE_FT</td>\n",
       "      <td>1.000310</td>\n",
       "    </tr>\n",
       "    <tr>\n",
       "      <th>4</th>\n",
       "      <td>RESALE</td>\n",
       "      <td>14.041889</td>\n",
       "    </tr>\n",
       "    <tr>\n",
       "      <th>5</th>\n",
       "      <td>LONGITUDE</td>\n",
       "      <td>10.898350</td>\n",
       "    </tr>\n",
       "    <tr>\n",
       "      <th>6</th>\n",
       "      <td>LATITUDE</td>\n",
       "      <td>20.791902</td>\n",
       "    </tr>\n",
       "  </tbody>\n",
       "</table>\n",
       "</div>"
      ],
      "text/plain": [
       "              Feature        VIF\n",
       "0  UNDER_CONSTRUCTION   1.495079\n",
       "1                RERA   1.733881\n",
       "2             BHK_NO.   8.089283\n",
       "3           SQUARE_FT   1.000310\n",
       "4              RESALE  14.041889\n",
       "5           LONGITUDE  10.898350\n",
       "6            LATITUDE  20.791902"
      ]
     },
     "execution_count": 60,
     "metadata": {},
     "output_type": "execute_result"
    }
   ],
   "source": [
    "df = df.drop(columns=['READY_TO_MOVE'])\n",
    "check_vif(df)"
   ]
  },
  {
   "cell_type": "markdown",
   "id": "5975e2e1",
   "metadata": {},
   "source": [
    "#### Remove further columns\n",
    "Remove latitude, longitude"
   ]
  },
  {
   "cell_type": "code",
   "execution_count": 61,
   "id": "d44bbe3c",
   "metadata": {},
   "outputs": [
    {
     "data": {
      "text/html": [
       "<div>\n",
       "<style scoped>\n",
       "    .dataframe tbody tr th:only-of-type {\n",
       "        vertical-align: middle;\n",
       "    }\n",
       "\n",
       "    .dataframe tbody tr th {\n",
       "        vertical-align: top;\n",
       "    }\n",
       "\n",
       "    .dataframe thead th {\n",
       "        text-align: right;\n",
       "    }\n",
       "</style>\n",
       "<table border=\"1\" class=\"dataframe\">\n",
       "  <thead>\n",
       "    <tr style=\"text-align: right;\">\n",
       "      <th></th>\n",
       "      <th>Feature</th>\n",
       "      <th>VIF</th>\n",
       "    </tr>\n",
       "  </thead>\n",
       "  <tbody>\n",
       "    <tr>\n",
       "      <th>0</th>\n",
       "      <td>UNDER_CONSTRUCTION</td>\n",
       "      <td>1.392400</td>\n",
       "    </tr>\n",
       "    <tr>\n",
       "      <th>1</th>\n",
       "      <td>RERA</td>\n",
       "      <td>1.645478</td>\n",
       "    </tr>\n",
       "    <tr>\n",
       "      <th>2</th>\n",
       "      <td>BHK_NO.</td>\n",
       "      <td>6.073978</td>\n",
       "    </tr>\n",
       "    <tr>\n",
       "      <th>3</th>\n",
       "      <td>SQUARE_FT</td>\n",
       "      <td>1.000181</td>\n",
       "    </tr>\n",
       "    <tr>\n",
       "      <th>4</th>\n",
       "      <td>RESALE</td>\n",
       "      <td>5.623347</td>\n",
       "    </tr>\n",
       "  </tbody>\n",
       "</table>\n",
       "</div>"
      ],
      "text/plain": [
       "              Feature       VIF\n",
       "0  UNDER_CONSTRUCTION  1.392400\n",
       "1                RERA  1.645478\n",
       "2             BHK_NO.  6.073978\n",
       "3           SQUARE_FT  1.000181\n",
       "4              RESALE  5.623347"
      ]
     },
     "execution_count": 61,
     "metadata": {},
     "output_type": "execute_result"
    }
   ],
   "source": [
    "df = df.drop(columns=['LONGITUDE','LATITUDE'])\n",
    "check_vif(df)"
   ]
  },
  {
   "cell_type": "markdown",
   "id": "2844aaf5",
   "metadata": {},
   "source": [
    "## Linear regression using scikit learn"
   ]
  },
  {
   "cell_type": "markdown",
   "id": "cef0be2a",
   "metadata": {},
   "source": [
    "Read the data and create train and test data"
   ]
  },
  {
   "cell_type": "code",
   "execution_count": 67,
   "id": "e7b2b082",
   "metadata": {},
   "outputs": [
    {
     "name": "stdout",
     "output_type": "stream",
     "text": [
      "<class 'pandas.core.frame.DataFrame'>\n",
      "RangeIndex: 29451 entries, 0 to 29450\n",
      "Data columns (total 12 columns):\n",
      " #   Column                 Non-Null Count  Dtype  \n",
      "---  ------                 --------------  -----  \n",
      " 0   POSTED_BY              29451 non-null  object \n",
      " 1   UNDER_CONSTRUCTION     29451 non-null  int64  \n",
      " 2   RERA                   29451 non-null  int64  \n",
      " 3   BHK_NO.                29451 non-null  int64  \n",
      " 4   BHK_OR_RK              29451 non-null  object \n",
      " 5   SQUARE_FT              29451 non-null  float64\n",
      " 6   READY_TO_MOVE          29451 non-null  int64  \n",
      " 7   RESALE                 29451 non-null  int64  \n",
      " 8   ADDRESS                29451 non-null  object \n",
      " 9   LONGITUDE              29451 non-null  float64\n",
      " 10  LATITUDE               29451 non-null  float64\n",
      " 11  TARGET(PRICE_IN_LACS)  29451 non-null  float64\n",
      "dtypes: float64(4), int64(5), object(3)\n",
      "memory usage: 2.7+ MB\n",
      "<class 'pandas.core.frame.DataFrame'>\n",
      "RangeIndex: 29451 entries, 0 to 29450\n",
      "Data columns (total 12 columns):\n",
      " #   Column                 Non-Null Count  Dtype  \n",
      "---  ------                 --------------  -----  \n",
      " 0   POSTED_BY              29451 non-null  object \n",
      " 1   RERA                   29451 non-null  int64  \n",
      " 2   BHK_NO.                29451 non-null  int64  \n",
      " 3   BHK_OR_RK              29451 non-null  object \n",
      " 4   SQUARE_FT              29451 non-null  float64\n",
      " 5   READY_TO_MOVE          29451 non-null  int64  \n",
      " 6   RESALE                 29451 non-null  int64  \n",
      " 7   ADDRESS                29451 non-null  object \n",
      " 8   LONGITUDE              29451 non-null  float64\n",
      " 9   LATITUDE               29451 non-null  float64\n",
      " 10  TARGET(PRICE_IN_LACS)  29451 non-null  float64\n",
      " 11  UNDER_CONSTRUCTION_1   29451 non-null  bool   \n",
      "dtypes: bool(1), float64(4), int64(4), object(3)\n",
      "memory usage: 2.5+ MB\n"
     ]
    }
   ],
   "source": [
    "df.info()\n",
    "# df = pd.get_dummies(df, columns=['UNDER_CONSTRUCTION', 'RESALE', 'RERA'], drop_first=True)\n",
    "df_encoded = pd.get_dummies(df, columns=['UNDER_CONSTRUCTION'], drop_first=True)\n",
    "df_encoded.info()\n",
    "# train_df, test_df = train_test_split(df, test_size=0.3, random_state=42)\n"
   ]
  },
  {
   "cell_type": "code",
   "execution_count": 42,
   "id": "f8e5cc74",
   "metadata": {},
   "outputs": [],
   "source": [
    "X_train = train_df[[ 'RERA', 'BHK_NO.', 'SQUARE_FT']].values\n",
    "y_train = train_df['TARGET(PRICE_IN_LACS)'].values\n",
    "\n",
    "X_test = test_df[[ 'RERA', 'BHK_NO.', 'SQUARE_FT']].values\n",
    "y_test = test_df['TARGET(PRICE_IN_LACS)'].values\n",
    "\n"
   ]
  },
  {
   "cell_type": "code",
   "execution_count": 43,
   "id": "cd2dec95",
   "metadata": {},
   "outputs": [],
   "source": [
    "scaler = StandardScaler()\n",
    "X_train_scaled = scaler.fit_transform(X_train)\n",
    "X_test_scaled = scaler.transform(X_test)"
   ]
  },
  {
   "cell_type": "code",
   "execution_count": 44,
   "id": "1bd8c0a1",
   "metadata": {},
   "outputs": [
    {
     "data": {
      "text/html": [
       "<style>#sk-container-id-3 {color: black;}#sk-container-id-3 pre{padding: 0;}#sk-container-id-3 div.sk-toggleable {background-color: white;}#sk-container-id-3 label.sk-toggleable__label {cursor: pointer;display: block;width: 100%;margin-bottom: 0;padding: 0.3em;box-sizing: border-box;text-align: center;}#sk-container-id-3 label.sk-toggleable__label-arrow:before {content: \"▸\";float: left;margin-right: 0.25em;color: #696969;}#sk-container-id-3 label.sk-toggleable__label-arrow:hover:before {color: black;}#sk-container-id-3 div.sk-estimator:hover label.sk-toggleable__label-arrow:before {color: black;}#sk-container-id-3 div.sk-toggleable__content {max-height: 0;max-width: 0;overflow: hidden;text-align: left;background-color: #f0f8ff;}#sk-container-id-3 div.sk-toggleable__content pre {margin: 0.2em;color: black;border-radius: 0.25em;background-color: #f0f8ff;}#sk-container-id-3 input.sk-toggleable__control:checked~div.sk-toggleable__content {max-height: 200px;max-width: 100%;overflow: auto;}#sk-container-id-3 input.sk-toggleable__control:checked~label.sk-toggleable__label-arrow:before {content: \"▾\";}#sk-container-id-3 div.sk-estimator input.sk-toggleable__control:checked~label.sk-toggleable__label {background-color: #d4ebff;}#sk-container-id-3 div.sk-label input.sk-toggleable__control:checked~label.sk-toggleable__label {background-color: #d4ebff;}#sk-container-id-3 input.sk-hidden--visually {border: 0;clip: rect(1px 1px 1px 1px);clip: rect(1px, 1px, 1px, 1px);height: 1px;margin: -1px;overflow: hidden;padding: 0;position: absolute;width: 1px;}#sk-container-id-3 div.sk-estimator {font-family: monospace;background-color: #f0f8ff;border: 1px dotted black;border-radius: 0.25em;box-sizing: border-box;margin-bottom: 0.5em;}#sk-container-id-3 div.sk-estimator:hover {background-color: #d4ebff;}#sk-container-id-3 div.sk-parallel-item::after {content: \"\";width: 100%;border-bottom: 1px solid gray;flex-grow: 1;}#sk-container-id-3 div.sk-label:hover label.sk-toggleable__label {background-color: #d4ebff;}#sk-container-id-3 div.sk-serial::before {content: \"\";position: absolute;border-left: 1px solid gray;box-sizing: border-box;top: 0;bottom: 0;left: 50%;z-index: 0;}#sk-container-id-3 div.sk-serial {display: flex;flex-direction: column;align-items: center;background-color: white;padding-right: 0.2em;padding-left: 0.2em;position: relative;}#sk-container-id-3 div.sk-item {position: relative;z-index: 1;}#sk-container-id-3 div.sk-parallel {display: flex;align-items: stretch;justify-content: center;background-color: white;position: relative;}#sk-container-id-3 div.sk-item::before, #sk-container-id-3 div.sk-parallel-item::before {content: \"\";position: absolute;border-left: 1px solid gray;box-sizing: border-box;top: 0;bottom: 0;left: 50%;z-index: -1;}#sk-container-id-3 div.sk-parallel-item {display: flex;flex-direction: column;z-index: 1;position: relative;background-color: white;}#sk-container-id-3 div.sk-parallel-item:first-child::after {align-self: flex-end;width: 50%;}#sk-container-id-3 div.sk-parallel-item:last-child::after {align-self: flex-start;width: 50%;}#sk-container-id-3 div.sk-parallel-item:only-child::after {width: 0;}#sk-container-id-3 div.sk-dashed-wrapped {border: 1px dashed gray;margin: 0 0.4em 0.5em 0.4em;box-sizing: border-box;padding-bottom: 0.4em;background-color: white;}#sk-container-id-3 div.sk-label label {font-family: monospace;font-weight: bold;display: inline-block;line-height: 1.2em;}#sk-container-id-3 div.sk-label-container {text-align: center;}#sk-container-id-3 div.sk-container {/* jupyter's `normalize.less` sets `[hidden] { display: none; }` but bootstrap.min.css set `[hidden] { display: none !important; }` so we also need the `!important` here to be able to override the default hidden behavior on the sphinx rendered scikit-learn.org. See: https://github.com/scikit-learn/scikit-learn/issues/21755 */display: inline-block !important;position: relative;}#sk-container-id-3 div.sk-text-repr-fallback {display: none;}</style><div id=\"sk-container-id-3\" class=\"sk-top-container\"><div class=\"sk-text-repr-fallback\"><pre>LinearRegression()</pre><b>In a Jupyter environment, please rerun this cell to show the HTML representation or trust the notebook. <br />On GitHub, the HTML representation is unable to render, please try loading this page with nbviewer.org.</b></div><div class=\"sk-container\" hidden><div class=\"sk-item\"><div class=\"sk-estimator sk-toggleable\"><input class=\"sk-toggleable__control sk-hidden--visually\" id=\"sk-estimator-id-3\" type=\"checkbox\" checked><label for=\"sk-estimator-id-3\" class=\"sk-toggleable__label sk-toggleable__label-arrow\">LinearRegression</label><div class=\"sk-toggleable__content\"><pre>LinearRegression()</pre></div></div></div></div></div>"
      ],
      "text/plain": [
       "LinearRegression()"
      ]
     },
     "execution_count": 44,
     "metadata": {},
     "output_type": "execute_result"
    }
   ],
   "source": [
    "model = LinearRegression()\n",
    "model.fit(X_train_scaled, y_train)"
   ]
  },
  {
   "cell_type": "code",
   "execution_count": 45,
   "id": "b02f1790",
   "metadata": {},
   "outputs": [],
   "source": [
    "y_pred_train = model.predict(X_train_scaled)\n",
    "y_pred_test = model.predict(X_test_scaled)\n",
    "\n",
    "mse_train = mean_squared_error(y_train, y_pred_train)\n",
    "mse_test = mean_squared_error(y_test, y_pred_test)\n",
    "r2_train = r2_score(y_train, y_pred_train)\n",
    "r2_test = r2_score(y_test, y_pred_test)"
   ]
  },
  {
   "cell_type": "code",
   "execution_count": 47,
   "id": "59a73e5d",
   "metadata": {},
   "outputs": [
    {
     "name": "stdout",
     "output_type": "stream",
     "text": [
      "333462.86794301163\n",
      "0.2236433967317646\n"
     ]
    }
   ],
   "source": [
    "print(mse_train)\n",
    "print(r2_test)"
   ]
  },
  {
   "cell_type": "code",
   "execution_count": null,
   "id": "fd9af259",
   "metadata": {},
   "outputs": [],
   "source": [
    "new_data = np.array([[0.5, 0.5]])\n",
    "new_predictions = model.predict(new_data)"
   ]
  }
 ],
 "metadata": {
  "kernelspec": {
   "display_name": "Python 3 (ipykernel)",
   "language": "python",
   "name": "python3"
  },
  "language_info": {
   "codemirror_mode": {
    "name": "ipython",
    "version": 3
   },
   "file_extension": ".py",
   "mimetype": "text/x-python",
   "name": "python",
   "nbconvert_exporter": "python",
   "pygments_lexer": "ipython3",
   "version": "3.11.5"
  }
 },
 "nbformat": 4,
 "nbformat_minor": 5
}
